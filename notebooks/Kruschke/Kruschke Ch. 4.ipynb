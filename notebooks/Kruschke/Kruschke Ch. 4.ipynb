{
 "cells": [
  {
   "cell_type": "markdown",
   "metadata": {},
   "source": [
    "# Probability intro\n",
    "Going through the main points.  \n",
    "The goal of this and other such files is to provide a quick recap even if i dont look at the topic for a long time."
   ]
  },
  {
   "cell_type": "markdown",
   "metadata": {},
   "source": [
    "## Probability mass\n",
    "## Probability density\n",
    "### Properties of probability density functions\n",
    "### Mean and Var\n",
    "### Highest density interval (HDI)\n",
    "## TWO-WAY DISTRIBUTIONS (p.89)\n",
    "This is a super important part, introduces lots of ideas we will come back to.  \n",
    "(insert picture of the table, it is very nice.)\n",
    "- the table itself\n",
    "- conditional probability\n",
    "- independence"
   ]
  },
  {
   "cell_type": "code",
   "execution_count": null,
   "metadata": {},
   "outputs": [],
   "source": []
  }
 ],
 "metadata": {
  "kernelspec": {
   "display_name": "R",
   "language": "R",
   "name": "ir"
  },
  "language_info": {
   "codemirror_mode": "r",
   "file_extension": ".r",
   "mimetype": "text/x-r-source",
   "name": "R",
   "pygments_lexer": "r",
   "version": "3.5.1"
  }
 },
 "nbformat": 4,
 "nbformat_minor": 2
}
